{
 "cells": [
  {
   "cell_type": "markdown",
   "metadata": {
    "id": "KDSS2c_hXISc"
   },
   "source": [
    "**<h1><center>CS 464</center></h1>**\n",
    "**<h1><center>Introduction to Machine Learning</center></h1>**\n",
    "**<h1><center>Fall 2020</center></h1>**\n",
    "**<h1><center>Homework 3</center></h1>**\n",
    "<h4><center>Due: Jan 03, 2021 23:59 (GMT+3)</center></h4>"
   ]
  },
  {
   "cell_type": "markdown",
   "metadata": {
    "id": "W5qurNR3XkKT"
   },
   "source": [
    "### Instructions\n",
    "\n",
    "<ul>\n",
    "    <li>\n",
    "    This homework contains both written and programming questions about neural networks. You should implement programming questions on this notebook. Your plots should also be produced in this notebook. Each programming question has its own cell for your answer. You can implement your code directly in these cells, or you can call required functions which are defined in a different location for the given question.\n",
    "    </li>\n",
    "    <li>\n",
    "    For questions that you need to plot, your plot results have to be included in the cell output. For written questions, you may provide them either as comments in code cells or as seperate text cells. \n",
    "    </li>\n",
    "    <li>\n",
    "    You are <b>NOT ALLOWED</b> to use different libraries than given libraries in the code segments of this homework except for libraries inclueded in Python Standard Library (https://docs.python.org/3/library/).\n",
    "    </li>\n",
    "    <li>\n",
    "    You are <b>NOT ALLOWED</b> to use a different deep learning framework than PyTorch.\n",
    "    </li>\n",
    "    <li>\n",
    "    While submitting the homework file, please package notebook(\".ipynb\") and model (\".pth\") files as a gzipped TAR file or a ZIP file with the name cs464_hw3_section#_Firstname_Lastname. Please do not use any Turkish letters for any of your files including code files and model files. Upload your homework to Moodle.\n",
    "    </li>\n",
    "    <li>\n",
    "    This is an individual assignment for each student. That is, you are NOT allowed to share your work with your classmates.</li>\n",
    "    <li> \n",
    "    If you do not follow the submission routes, deadlines and specifications, it will lead to a significant grade deduction.\n",
    "    </li>\n",
    "    <li> \n",
    "    If you have any questions, please contact \"ilaydabeyreli@gmail.com\" or \"ilayda.beyreli@bilkent.edu.tr\".\n",
    "    </li>\n",
    "\n",
    "</ul>"
   ]
  },
  {
   "cell_type": "markdown",
   "metadata": {
    "id": "9d7BOVodYiGe"
   },
   "source": [
    "## Environment Setup"
   ]
  },
  {
   "cell_type": "markdown",
   "metadata": {
    "id": "EPlCx2GsYnHS"
   },
   "source": [
    "This homewrok is prepeared by using Google CoLab which already has required libraries. However, if you are using your own local Jupyter or any other Python notebook editor, you may use both anaconda or pip to install PyTorch to your own computer."
   ]
  },
  {
   "cell_type": "markdown",
   "metadata": {
    "id": "LM4dpplWZBGS"
   },
   "source": [
    "### Anaconda Installation\n",
    "\n",
    "<ul>\n",
    "    <li>Download anaconda from https://www.anaconda.com/download</li>\n",
    "    <li>Follow the instructions provided in https://conda.io/docs/user-guide/install/index.html#regular-installation</li>\n",
    "</ul>\n",
    "\n",
    "#### Creation of Virtual Environment\n",
    "\n",
    "<ul>\n",
    "    <li>Create python3.7 virtual environment for your hw3 using follow command from the command line<br>\n",
    "        <i>> conda create -n HW3 python=3.7 anaconda</i></li>\n",
    "    <li>Activate your virtual environment<br>\n",
    "        <i>> source activate HW3</i></li>\n",
    "    <li>To install auxiliary libraries, replace the \"package_name\" in the following command and run it in activated \"hw3\" environment <br>\n",
    "        <i>> pip install \"pacakge_name\"<i></li>\n",
    "     <li>When you create your virtual environment with \"anaconda\" metapackage, jupyter notebook should be installed. Try:<br>\n",
    "         <i>> jupyter notebook</i>\n",
    "</ul>\n",
    "\n",
    "\n",
    "#### Pytorch Installation with Anaconda\n",
    "\n",
    "You should install PyTorch to your virtual environment which is created for the hw3. Therefore, you should activate your homework virtual environment before to start PyTorch installation.\n",
    "<li>> source activate HW3</li>\n",
    "\n",
    "After you have activated the virtual environment, then use one of the following commands to install pytorch for CPU for your system. See https://pytorch.org/ for help.\n",
    "<ul>\n",
    "<li>For MacOS:<br>\n",
    "    <i>> conda install pytorch torchvision -c pytorch</i>\n",
    "</li>\n",
    "<li>For Linux:<br>\n",
    "    <i>> conda install pytorch-cpu torchvision-cpu -c pytorch</i>\n",
    "</li>\n",
    "<li>For Windows:<br>\n",
    "    <i>> conda install pytorch-cpu torchvision-cpu -c pytorch</i><br>\n",
    "</li>"
   ]
  },
  {
   "cell_type": "markdown",
   "metadata": {
    "id": "AVlcWIXEZZGO"
   },
   "source": [
    "###Pip3 Installation\n",
    "<ul>\n",
    "    <li>Download pip3 from https://pip.pypa.io/en/stable/installing/</li>\n",
    "    <li>If you are using Windows, you may need to add Python to your enviroment variables. You may use the following tutorial to install Python and pip.\n",
    "    https://phoenixnap.com/kb/how-to-install-python-3-windows</li>\n",
    "</ul>\n",
    "\n",
    "#### PyTorch Installation with Pip\n",
    "<ul>\n",
    "<li>For MacOS:<br>\n",
    "    <i>> pip3 install torch torchvision</i>\n",
    "</li>\n",
    "<li>For Linux:<br>\n",
    "    <i>> pip3 install torch==1.3.1+cpu torchvision==0.4.2+cpu -f https://download.pytorch.org/whl/torch_stable.html</i>\n",
    "</li>\n",
    "<li>For Windows:<br>\n",
    "    <i>> pip3 install torch==1.3.1+cpu torchvision==0.4.2+cpu -f https://download.pytorch.org/whl/torch_stable.html</i><br>\n",
    "</li>\n"
   ]
  },
  {
   "cell_type": "markdown",
   "metadata": {
    "id": "I0CsUtpmZmBk"
   },
   "source": [
    "##Question 1 [12 pts.]\n",
    "\n",
    "Answer the given questions with **at most a sentence**.\n",
    "\n",
    "  >a) What is one reason not to use the same data for both your training set and your testing set?<br>\n",
    "  To prevent overfitting.\n",
    "\n",
    "  >b) Why is it important for machine learning algorithms to have access to high-quality(large and accurate enough) data ?<br>\n",
    "  Algorithms would not face with any unexpected inputs by training with large data and they would make accurate predictions with accurate data.\n",
    "\n",
    "  >c) What is the main motivation for using activation functions in artificial neural networks (ANNs)?<br>\n",
    "  Activation functions performs non-linearity transformation on the input to get better results on ANNs.\n",
    "\n",
    "  >d) The activations for class A, B and C before softmax were 12, 7 and 4. What would be the softmax values for class A and class B?<br>\n",
    "  A = e^(12) / (e^(12) + e^(7) + e^(4)), B = e^(7) / (e^(12) + e^(7) + e^(4))\n",
    "\n",
    "  >e) What does it mean to underfit your data model?<br>\n",
    "  It means, machine learning algorithm has learned nothing.\n",
    "\n",
    "  >f) Consider you have a 14 class classification problem. What would be the probability of random guess?<br>\n",
    "  1 / 14\n",
    "\n",
    "\n"
   ]
  },
  {
   "cell_type": "markdown",
   "metadata": {
    "id": "fnAVhRr4eTPo"
   },
   "source": [
    "##Question 2 [88 pts.]"
   ]
  },
  {
   "cell_type": "markdown",
   "metadata": {
    "id": "GnaXgIskP6iY"
   },
   "source": [
    "Computer vision (CV) is the field of study that deals with how computers can gain high-level understanding from digital images or videos. Your task for this question is to classify cats according to their breeds by using simple machine learning algorithms developed for CV problems on cat images.\n",
    "\n",
    "Your dataset consist of cat images from 13 breeds. Images of each breed is stored under separate folders in the compressed file given to you.  The dataset has been processed in such a way that each class has approximately 1900 samples.\n",
    "\n",
    "Download the dataset from the following link:\n",
    "<br>\n",
    "https://drive.google.com/.....\n",
    "<br>\n",
    "\n",
    "Libraries that are required in this question is given in the following code cell."
   ]
  },
  {
   "cell_type": "code",
   "execution_count": 2,
   "metadata": {
    "id": "Z37KSYkSXHtz"
   },
   "outputs": [],
   "source": [
    "# Mount Google Drive\n",
    "# from google.colab import drive\n",
    "# drive.mount('/content/drive')\n",
    "# PyTorch\n",
    "import torch\n",
    "import torch.nn as nn\n",
    "import torch.nn.functional as F\n",
    "# To Read Data\n",
    "from torch.utils.data import Dataset, DataLoader\n",
    "import numpy as np\n",
    "from PIL import Image\n",
    "# To Interpret results & obtain plots\n",
    "from sklearn.model_selection import train_test_split\n",
    "from sklearn.metrics import confusion_matrix, f1_score, precision_score, recall_score, accuracy_score\n",
    "import matplotlib.pyplot as plt\n",
    "import os\n",
    "\n",
    "# You could add your own libraries form Python Standard Library in this cell. Any other external libraries are not allowed."
   ]
  },
  {
   "cell_type": "markdown",
   "metadata": {
    "id": "Kkd-WIVwTQsn"
   },
   "source": [
    "### Data Loader [8 pts.]\n",
    "\n",
    "An important part of such a task is to implement your own data loader. In this homework, a partial loader is provided to you. This loader is going to be based on a base class named \"Dataset\", provided in PyTorch library. You need to complete the code below to create your custom \"CatsDataset\" class which will be able to load your dataset. Implement the functions whose proptotypes are given. Follow the TODO notes below. You have to divide the files into three sets as <b>train (70%)</b>, \n",
    "<b>validation (10%)</b> and **test (20%)** sets.  These non-overlapping splits, which are subsets of CatsDataset, should be retrieved using the \"get_dataset\" function. Since this data loader will be called to get the input for different models, your function should work in a least two modes:\n",
    "1. To be compatible with MLP, you need to resize the image to 64x64x3 to have consistent input size for all images. Then, you should convert your image to grayscale and flatten it into a vector. Note that the pixel values also needs to be normalized to [0,1] range.\n",
    "<br>\n",
    "2. To be compatible with CNN, you need to resize the image to 64x64x3 to have consistent input size for all images. Note that, you **should not** flatten the image or convert it to grayscale in this mode, i.e. all channels of the images should be included and each image should be stored as a matrix.\n",
    "\n",
    "Hint: The dataset is not normalized and your results will heavily depend on your input."
   ]
  },
  {
   "cell_type": "code",
   "execution_count": 3,
   "metadata": {
    "id": "x9fac_LpYdXE"
   },
   "outputs": [],
   "source": [
    "class CatsDataset(Dataset):\n",
    "    # TODO:\n",
    "    # Define constructor for SVHNDataset class\n",
    "    # HINT: You can pass processed data samples and their ground truth values as parameters \n",
    "    def __init__(self, **kwargs): # you are free to change parameters\n",
    "      self.data = kwargs[\"data\"]\n",
    "        \n",
    "    '''This function should return sample count in the dataset'''\n",
    "    def __len__(self):\n",
    "       return len(self.data)\n",
    "\n",
    "    '''This function should return a single sample and its ground truth value from the dataset corresponding to index parameter '''\n",
    "    def __getitem__(self, index):\n",
    "      _x = self.data[index][0]      \n",
    "      _y = self.data[index][1]\n",
    "      return _x, _y\n"
   ]
  },
  {
   "cell_type": "code",
   "execution_count": 4,
   "metadata": {
    "id": "vE3b0p2IWrdo"
   },
   "outputs": [],
   "source": [
    "def get_dataset(root, mode):\n",
    "    img_with_label = []\n",
    "    classes = os.listdir(root)\n",
    "    class_sequence = []\n",
    "    for i in range(len(classes)):\n",
    "#         class_sequence.append(classes[i])\n",
    "        for img_file in os.listdir(root+\"/\"+classes[i]):\n",
    "          if mode == 2:\n",
    "              img = (Image.open(root+\"/\"+classes[i]+\"/\"+img_file)).resize((64,64))                \n",
    "          else:\n",
    "              img = (Image.open(root+\"/\"+classes[i]+\"/\"+img_file).convert('L')).resize((64,64))\n",
    "              img = np.array(img).reshape(1,64*64)                \n",
    "          img_with_label.append(((np.array(img)/255),i))\n",
    "    catSet = CatsDataset(data = img_with_label)\n",
    "    dataset = torch.utils.data.random_split(catSet , [int(len(catSet) * 0.7), int(len(catSet) * 0.1) , len(catSet) - int(len(catSet) * 0.7) - int(len(catSet) * 0.1)])\n",
    "    train_dataset = dataset[0]\n",
    "    val_dataset = dataset[1]\n",
    "    test_dataset = dataset[2] \n",
    "    # TODO: \n",
    "    # Read dataset files\n",
    "    # Resize images as 64x64 so that you have consistent data. You can use img.resize((64,64)) from PIL.Image.\n",
    "    # Construct training, validation and test sets\n",
    "    # Normalize datasets\n",
    "#     print(class_sequence)\n",
    "    return train_dataset, val_dataset, test_dataset"
   ]
  },
  {
   "cell_type": "code",
   "execution_count": 27,
   "metadata": {},
   "outputs": [
    {
     "name": "stdout",
     "output_type": "stream",
     "text": [
      "['American Shorthair', 'Bengal', 'Calico', 'Dilute Calico', 'Dilute Tortoiseshell', 'Domestic Medium Hair', 'Manx', 'Persian', 'Ragdoll', 'Siamese', 'Tabby', 'Torbie', 'Tuxedo']\n"
     ]
    },
    {
     "data": {
      "text/plain": [
       "(<torch.utils.data.dataset.Subset at 0x2479157d520>,\n",
       " <torch.utils.data.dataset.Subset at 0x2478f03f8b0>,\n",
       " <torch.utils.data.dataset.Subset at 0x24764c5cd60>)"
      ]
     },
     "execution_count": 27,
     "metadata": {},
     "output_type": "execute_result"
    }
   ],
   "source": [
    "get_dataset('data', 1)"
   ]
  },
  {
   "cell_type": "markdown",
   "metadata": {
    "id": "iz1yad18Yo7m"
   },
   "source": [
    "###Model Implementations [10 pts.]"
   ]
  },
  {
   "cell_type": "markdown",
   "metadata": {
    "id": "xhv_2w2oZVcL"
   },
   "source": [
    "#### Multi Layer Perceptron [5 pts.]\n",
    "Now, implement your three layer neural network. (Input+hidden1+hidden2) FNet class will represent your neural network. The first hidden layer will contain 2048 neurons, and the second will have 1024 neurons. You will decide the number of input and output neurons. Use ReLU as your hidden layer activation function. You need to pick a proper activation function for the output layer."
   ]
  },
  {
   "cell_type": "code",
   "execution_count": 5,
   "metadata": {
    "id": "kLbnCwuvYy1N"
   },
   "outputs": [],
   "source": [
    "class FNet(nn.Module):\n",
    "    '''Define your neural network'''\n",
    "    def __init__(self, **kwargs): \n",
    "        super().__init__()       \n",
    "        self.input_fc = nn.Linear(4096, 2048)\n",
    "        self.hidden_fc = nn.Linear(2048, 1024)\n",
    "        self.output_fc = nn.Linear(1024, 13)\n",
    "        \n",
    "    # you can add any additional parameters you want \n",
    "    # TODO:\n",
    "    # You should create your neural network here\n",
    "     \n",
    "    def forward(self, X):\n",
    "        x = X\n",
    "        batch_size = x.shape[0]\n",
    "        x = x.view(batch_size, -1)\n",
    "        h_1 = F.relu(self.input_fc(x))\n",
    "        h_2 = F.relu(self.hidden_fc(h_1))\n",
    "        y_pred = self.output_fc(h_2)\n",
    "        return y_pred\n",
    "    # you can add any additional parameters you want\n",
    "    # TODO:\n",
    "    # Forward propagation implementation should be here"
   ]
  },
  {
   "cell_type": "markdown",
   "metadata": {
    "id": "wFVQay-2Z7Ix"
   },
   "source": [
    "#### Convolutional Neural Network [5 pts]\n",
    "\n",
    "Now implement your CNN. ConvNet class will represent your convolutional neural network. Implement 4 layers of convolution: \n",
    "<ul>\n",
    "    <li>(1) 8 filters with size of 3 x 3 with stride 1 and no padding, (2) ReLU </li>\n",
    "    <li>(3) 16 filters with size of 3 x 3 with stride 1 and no padding, (4) ReLU and (5) MaxPool 2 x 2 </li>\n",
    "    <li>(6) 32 filters with size of 5 x 5 with stride 1 and padding 1, (7) ReLU and (8) MaxPool 2 x 2 </li> \n",
    "    <li>(9) 32 filters with size of 5 x 5 with stride 1 and padding 1, (10) ReLU and (11) MaxPool 2 x 2 </li> \n",
    "</ul>\n",
    "\n",
    "As the classifier layer, you need to add only one linear layer at the end of the network. You need to choose the appropriate input and output neuron sizes and the activation function for the dense layer."
   ]
  },
  {
   "cell_type": "code",
   "execution_count": 6,
   "metadata": {
    "id": "lNnoeEy-aGA3"
   },
   "outputs": [],
   "source": [
    "class ConvNet(nn.Module):\n",
    "    '''Define your neural network'''\n",
    "    def __init__(self, **kwargs):\n",
    "      super().__init__()\n",
    "        \n",
    "      self.layer1 = nn.Sequential(\n",
    "          nn.Conv2d(3,8,kernel_size=3, padding=0,stride=1),\n",
    "          nn.ReLU(),\n",
    "      )\n",
    "      \n",
    "      self.layer2 = nn.Sequential(\n",
    "          nn.Conv2d(8,16, kernel_size=3, padding=0, stride=1),\n",
    "          nn.ReLU(),\n",
    "          nn.MaxPool2d(2)\n",
    "          )\n",
    "      \n",
    "      self.layer3 = nn.Sequential(\n",
    "          nn.Conv2d(16,32, kernel_size=5, padding=1, stride=1),\n",
    "          nn.ReLU(),\n",
    "          nn.MaxPool2d(2)\n",
    "      )\n",
    "\n",
    "      self.layer4 = nn.Sequential(\n",
    "          nn.Conv2d(32,32, kernel_size=5, padding=1, stride=1),\n",
    "          nn.ReLU(),\n",
    "          nn.MaxPool2d(2)\n",
    "      )\n",
    "      \n",
    "      \n",
    "      self.fc1 = nn.Linear(6*6*32,13)\n",
    "    # you can add any additional parameters you want \n",
    "    # TODO:\n",
    "    # You should create your neural network here\n",
    "     \n",
    "    def forward(self, X):\n",
    "        x = X\n",
    "        out = self.layer1(x)\n",
    "        out = self.layer2(out)\n",
    "        out = self.layer3(out)\n",
    "        out = self.layer4(out)\n",
    "        out = out.reshape(-1, 32*6*6)\n",
    "        out = self.fc1(out)\n",
    "        return out\n",
    "    # you can add any additional parameters you want\n",
    "    # TODO:\n",
    "    # Forward propagation implementation should be here"
   ]
  },
  {
   "cell_type": "markdown",
   "metadata": {
    "id": "s4HT9fvm_jgX"
   },
   "source": [
    "###Stochastic Gradient Descent [35 pts.]"
   ]
  },
  {
   "cell_type": "markdown",
   "metadata": {
    "id": "ZJO7J4sf7YGZ"
   },
   "source": [
    "####Training with SGD [20 pts.]\n",
    "\n",
    "Train both models up to 700 epochs with properly processed inputs, i.e. call your \"get_dataset\" function in mode \"1\" for MLP and mode \"2\" for CNN. Use SGD as your optimizer. Tune your learning rate, weight decay. Take momentum as $0$ Save your best models, i.e. MLP and CNN models with highest performance, as \"best_mlp_sgd.pth\" and \"best_cnn_sgd.pth\". The best model decision is up to you. You could use any measurement and/or metric to decide on the best model for each network. However, you must explain your reasoning in your choice.\n",
    "\n",
    "During training, you need to plot two figures for each model:\n",
    "1. training loss and validation loss vs. epoch\n",
    "2. validation acuracy and validation accuracy vs. epoch <br>\n",
    "\n",
    "Name your axes and plots properly."
   ]
  },
  {
   "cell_type": "code",
   "execution_count": null,
   "metadata": {},
   "outputs": [],
   "source": [
    "train_dataset, val_dataset, test_dataset = get_dataset('data', 1)"
   ]
  },
  {
   "cell_type": "code",
   "execution_count": 8,
   "metadata": {
    "id": "28Zs63u-CQn9",
    "scrolled": false
   },
   "outputs": [
    {
     "data": {
      "image/png": "[encoded data removed]",
      "text/plain": [
       "<Figure size 432x288 with 1 Axes>"
      ]
     },
     "metadata": {
      "needs_background": "light"
     },
     "output_type": "display_data"
    },
    {
     "data": {
      "image/png": "[encoded data removed]",
      "text/plain": [
       "<Figure size 432x288 with 1 Axes>"
      ]
     },
     "metadata": {
      "needs_background": "light"
     },
     "output_type": "display_data"
    }
   ],
   "source": [
    "# HINT: note that your training time should not take many days.\n",
    "\n",
    "# TODO:\n",
    "# Pick your hyper parameters\n",
    "max_epoch = 700\n",
    "train_batch = 32\n",
    "test_batch = 32\n",
    "learning_rate = 0.01\n",
    "\n",
    "use_gpu = torch.cuda.is_available()\n",
    "\n",
    "train_loader_mlp = DataLoader(dataset = train_dataset, batch_size=train_batch, shuffle=True )\n",
    "test_loader_mlp = DataLoader(dataset = test_dataset, batch_size=train_batch, shuffle=True)\n",
    "val_loader_mlp = DataLoader(dataset = val_dataset, batch_size=train_batch, shuffle=True)\n",
    "\n",
    "# initialize your network\n",
    "model = FNet().to('cuda')\n",
    "\n",
    "# define your loss function\n",
    "criterion = nn.CrossEntropyLoss()\n",
    "    \n",
    "optimizer = torch.optim.SGD(model.parameters(), lr=learning_rate, weight_decay=10e-04, momentum=0) # you can play with  weight_decay as well\n",
    "    \n",
    "# start training\n",
    "# for each epoch calculate validation performance\n",
    "# save best model according to validation performance\n",
    "val_acc = []\n",
    "valid_loss = []\n",
    "train_acc = []\n",
    "train_loss = []\n",
    "val_acc_max = 0\n",
    "for epoch in range(max_epoch):\n",
    "    model=model.train()\n",
    "    running_loss = 0.0\n",
    "    epoch_accuracy=0\n",
    "    epoch_loss =0\n",
    "    for data in train_loader_mlp:\n",
    "        inputs, labels = data\n",
    "        inputs = inputs.to('cuda',dtype=torch.float32)\n",
    "        labels = labels.to('cuda',dtype=torch.long)\n",
    "\n",
    "        optimizer.zero_grad()\n",
    "\n",
    "        outputs = model(inputs.float())\n",
    "        loss = criterion(outputs, labels)\n",
    "        loss.backward()\n",
    "        optimizer.step()\n",
    "        \n",
    "        acc = ((outputs.argmax(dim=1) == labels).float().mean())\n",
    "        epoch_accuracy += acc/len(train_loader_mlp)\n",
    "        epoch_loss += loss/len(train_loader_mlp)\n",
    "#     print('Epoch : {}, train accuracy : {}, train loss : {}'.format(epoch+1, epoch_accuracy,epoch_loss))\n",
    "    train_acc.append(epoch_accuracy)\n",
    "    train_loss.append(epoch_loss)\n",
    "#    Validation\n",
    "    model = model.eval()\n",
    "    with torch.no_grad():\n",
    "            epoch_val_accuracy=0\n",
    "            epoch_val_loss =0\n",
    "            for data in val_loader_mlp:\n",
    "                data, label = data\n",
    "                data = data.to('cuda',dtype=torch.float32)\n",
    "                label = label.to('cuda',dtype=torch.long)\n",
    "\n",
    "                val_output = model(data.float())\n",
    "                val_loss = criterion(val_output,label)\n",
    "\n",
    "                acc = ((val_output.argmax(dim=1) == label).float().mean())\n",
    "                epoch_val_accuracy += acc/ len(val_loader_mlp)\n",
    "                epoch_val_loss += val_loss/ len(val_loader_mlp)\n",
    "\n",
    "            val_acc.append(epoch_val_accuracy)\n",
    "            valid_loss.append(epoch_val_loss)\n",
    "            if epoch_val_accuracy > val_acc_max:\n",
    "                torch.save(model, 'best_mlp_sgd.pth')\n",
    "                val_acc_max = epoch_val_accuracy\n",
    "            \n",
    "plt.plot(train_loss, color='green')\n",
    "plt.plot(valid_loss, color='red')\n",
    "plt.title(\"Loss\")\n",
    "plt.xlabel('epoch')\n",
    "plt.ylabel('loss')\n",
    "plt.legend(['train_loss', 'valid_loss'])\n",
    "plt.show()\n",
    "\n",
    "plt.plot(train_acc, color='green')\n",
    "plt.plot(val_acc, color='red')\n",
    "plt.title(\"Accuracy\")\n",
    "plt.xlabel('epoch')\n",
    "plt.ylabel('accuracy')\n",
    "plt.legend(['train_acc', 'val_acc'])\n",
    "plt.show()"
   ]
  },
  {
   "cell_type": "code",
   "execution_count": 7,
   "metadata": {},
   "outputs": [],
   "source": [
    "train_dataset, val_dataset, test_dataset = get_dataset('data', 2)"
   ]
  },
  {
   "cell_type": "code",
   "execution_count": 8,
   "metadata": {
    "id": "S4VU9L1jCNCC"
   },
   "outputs": [
    {
     "data": {
      "image/png": "[encoded data removed]",
      "text/plain": [
       "<Figure size 432x288 with 1 Axes>"
      ]
     },
     "metadata": {
      "needs_background": "light"
     },
     "output_type": "display_data"
    },
    {
     "data": {
      "image/png": "[encoded data removed]",
      "text/plain": [
       "<Figure size 432x288 with 1 Axes>"
      ]
     },
     "metadata": {
      "needs_background": "light"
     },
     "output_type": "display_data"
    }
   ],
   "source": [
    "# HINT: note that your training time should not take many days.\n",
    "\n",
    "# TODO:\n",
    "# Pick your hyper parameters\n",
    "max_epoch = 700\n",
    "train_batch = 64\n",
    "test_batch = 64\n",
    "learning_rate = 0.01\n",
    "\n",
    "use_gpu = torch.cuda.is_available()\n",
    "\n",
    "train_loader_cnn = DataLoader(dataset = train_dataset, batch_size=train_batch, shuffle=True )\n",
    "test_loader_cnn = DataLoader(dataset = test_dataset, batch_size=train_batch, shuffle=True)\n",
    "val_loader_cnn = DataLoader(dataset = val_dataset, batch_size=train_batch, shuffle=True)\n",
    "\n",
    "# initialize your network\n",
    "model = ConvNet().to('cuda')\n",
    "\n",
    "# define your loss function\n",
    "criterion = nn.CrossEntropyLoss()\n",
    "    \n",
    "optimizer = torch.optim.SGD(model.parameters(), lr=learning_rate, weight_decay=5e-04, momentum=0) # you can play with  weight_decay as well\n",
    "    \n",
    "# start training\n",
    "# for each epoch calculate validation performance\n",
    "# save best model according to validation performance\n",
    "val_acc = []\n",
    "valid_loss = []\n",
    "train_acc = []\n",
    "train_loss = []\n",
    "val_acc_max = 0\n",
    "for epoch in range(max_epoch):\n",
    "    model=model.train()\n",
    "    running_loss = 0.0\n",
    "    epoch_accuracy=0\n",
    "    epoch_loss =0\n",
    "    for data in train_loader_cnn:\n",
    "        inputs, labels = data\n",
    "        inputs = inputs.to('cuda',dtype=torch.float32)\n",
    "        labels = labels.to('cuda',dtype=torch.long)\n",
    "\n",
    "        optimizer.zero_grad()\n",
    "\n",
    "        inputs = inputs.permute(0, 3, 1, 2)\n",
    "        outputs = model(inputs.float())\n",
    "        loss = criterion(outputs, labels)\n",
    "        loss.backward()\n",
    "        optimizer.step()\n",
    "        \n",
    "        acc = ((outputs.argmax(dim=1) == labels).float().mean())\n",
    "        epoch_accuracy += acc/len(train_loader_cnn)\n",
    "        epoch_loss += loss/len(train_loader_cnn)\n",
    "    train_acc.append(epoch_accuracy)\n",
    "    train_loss.append(epoch_loss)\n",
    "#    Validation\n",
    "    model = model.eval()\n",
    "    with torch.no_grad():\n",
    "            epoch_val_accuracy=0\n",
    "            epoch_val_loss =0\n",
    "            for data in val_loader_cnn:\n",
    "                data, label = data\n",
    "                data = data.to('cuda',dtype=torch.float32)\n",
    "                label = label.to('cuda',dtype=torch.long)\n",
    "\n",
    "                data = data.permute(0, 3, 1, 2)\n",
    "                val_output = model(data.float())\n",
    "                val_loss = criterion(val_output,label)\n",
    "\n",
    "\n",
    "                acc = ((val_output.argmax(dim=1) == label).float().mean())\n",
    "                epoch_val_accuracy += acc/ len(val_loader_cnn)\n",
    "                epoch_val_loss += val_loss/ len(val_loader_cnn)\n",
    "            val_acc.append(epoch_val_accuracy)\n",
    "            valid_loss.append(epoch_val_loss)\n",
    "            if epoch_val_accuracy > val_acc_max:\n",
    "                torch.save(model, 'best_cnn_sgd.pth')\n",
    "                val_acc_max = epoch_val_accuracy\n",
    "            \n",
    "plt.plot(train_loss, color='green')\n",
    "plt.plot(valid_loss, color='red')\n",
    "plt.title(\"Loss\")\n",
    "plt.xlabel('epoch')\n",
    "plt.ylabel('loss')\n",
    "plt.legend(['train_loss', 'valid_loss'])\n",
    "plt.show()\n",
    "\n",
    "plt.plot(train_acc, color='green')\n",
    "plt.plot(val_acc, color='red')\n",
    "plt.title(\"Accuracy\")\n",
    "plt.xlabel('epoch')\n",
    "plt.ylabel('accuracy')\n",
    "plt.legend(['train_acc', 'val_acc'])\n",
    "plt.show()"
   ]
  },
  {
   "cell_type": "markdown",
   "metadata": {
    "id": "bGlkTe9e-VLO"
   },
   "source": [
    "####Test with SGD [15 pts.]\n",
    "\n",
    "Report the following for your best model on your test set which has not been seen by the model yet.\n",
    "1. A heatmap for confusion matrix\n",
    "2. Accuracy\n",
    "3. Macro Precision\n",
    "4. Macro Recall\n",
    "5. F1 Score\n",
    "\n",
    "Then, discuss figures that you have plotted in the previous section, your test results and algorithm complexity with maximum 200 words. Compare two **models**. Which one is more preferable? Why?"
   ]
  },
  {
   "cell_type": "code",
   "execution_count": 11,
   "metadata": {
    "id": "ZuMo7CbnCP50"
   },
   "outputs": [
    {
     "name": "stdout",
     "output_type": "stream",
     "text": [
      "Mean Loss: 4.2052178382873535 \n",
      "Mean Acc: 0.17219065656565669 \n",
      "Mean Macro Precision: 0.2556575278977876 \n",
      "Mean Macro Recall: 0.22828061188450788 \n",
      "Mean Macro F1 Score: 0.14053552637468722\n"
     ]
    },
    {
     "data": {
      "image/png": "[encoded data removed]",
      "text/plain": [
       "<Figure size 432x288 with 1 Axes>"
      ]
     },
     "metadata": {
      "needs_background": "light"
     },
     "output_type": "display_data"
    }
   ],
   "source": [
    "# Test MLP\n",
    "# load best model\n",
    "best_path = 'best_mlp_sgd.pth'\n",
    "model = torch.load(best_path)\n",
    "\n",
    "# evaluate on test set\n",
    "model = model.eval()\n",
    "\n",
    "test_loss_arr = []\n",
    "with torch.no_grad():\n",
    "    epoch_test_loss = 0\n",
    "    acc = 0\n",
    "    pre = 0\n",
    "    recall = 0\n",
    "    f1 = 0\n",
    "    conf_matrix = np.zeros((13,13))\n",
    "#   iterate over test batches\n",
    "    for loaded_data in test_loader_mlp:\n",
    "        input_data, label = loaded_data\n",
    "        input_data = input_data.to('cuda',dtype=torch.float32)\n",
    "        label = label.to('cuda',dtype=torch.long)\n",
    "\n",
    "        test_output = model(input_data.float())\n",
    "        test_loss = criterion(test_output,label)\n",
    "        \n",
    "        epoch_test_loss += test_loss/ len(test_loader_mlp)\n",
    "        test_output = (test_output.argmax(dim=1)).long()\n",
    "        label = np.array(label.cpu())\n",
    "        test_output = np.array(test_output.cpu())\n",
    "        #   get confusion matrix\n",
    "        if(confusion_matrix(label, test_output).shape==(13,13)):\n",
    "            conf_matrix += confusion_matrix(label, test_output) / len(test_loader_mlp)\n",
    "#         conf_matrix.append(confusion_matrix(label, test_output))\n",
    "        #   calculate accuracy\n",
    "        acc += accuracy_score(label, test_output) / len(test_loader_mlp)\n",
    "        #   calculate precision\n",
    "        pre += precision_score(label, test_output, average='macro', zero_division=1) / len(test_loader_mlp)\n",
    "        #   calculate recall\n",
    "        recall += recall_score(label, test_output, average='macro', zero_division=1) / len(test_loader_mlp)\n",
    "        #   calculate F1 score\n",
    "        f1 += f1_score(label, test_output, average='macro') / len(test_loader_mlp)\n",
    "    \n",
    "test_loss_arr.append(epoch_test_loss)\n",
    "test_loss_arr = np.array(test_loss_arr, dtype='float')\n",
    "losses = np.mean(test_loss_arr)\n",
    "\n",
    "\n",
    "# print metrics\n",
    "print(\"Mean Loss:\", losses, \"\\nMean Acc:\", acc,\"\\nMean Macro Precision:\", pre, \"\\nMean Macro Recall:\", recall, \"\\nMean Macro F1 Score:\", f1) \n",
    "\n",
    "# plot confusion matrix\n",
    "fig, ax = plt.subplots()\n",
    "im = ax.imshow(conf_matrix)\n",
    "# We want to show all ticks...\n",
    "ax.set_xticks(np.arange(13))\n",
    "ax.set_yticks(np.arange(13))\n",
    "\n",
    "fig.tight_layout()\n",
    "plt.show()"
   ]
  },
  {
   "cell_type": "code",
   "execution_count": 9,
   "metadata": {
    "id": "LNc_qjAECN9V"
   },
   "outputs": [
    {
     "name": "stdout",
     "output_type": "stream",
     "text": [
      "Mean Loss: 2.3535845279693604 \n",
      "Mean Acc: 0.2097174928729806 \n",
      "Mean Macro Precision: 0.305111470395451 \n",
      "Mean Macro Recall: 0.2156219321803737 \n",
      "Mean Macro F1 Score: 0.16361713813748174\n"
     ]
    },
    {
     "data": {
      "image/png": "[encoded data removed]",
      "text/plain": [
       "<Figure size 432x288 with 1 Axes>"
      ]
     },
     "metadata": {
      "needs_background": "light"
     },
     "output_type": "display_data"
    }
   ],
   "source": [
    "# Test CNN\n",
    "# load best model\n",
    "best_path = 'best_cnn_sgd.pth'\n",
    "model = torch.load(best_path)\n",
    "\n",
    "# evaluate on test set\n",
    "model = model.eval()\n",
    "\n",
    "test_loss_arr = []\n",
    "with torch.no_grad():\n",
    "    epoch_test_loss = 0\n",
    "    acc = 0\n",
    "    pre = 0\n",
    "    recall = 0\n",
    "    f1 = 0\n",
    "    conf_matrix = np.zeros((13,13))\n",
    "#   iterate over test batches\n",
    "    for loaded_data in test_loader_cnn:\n",
    "        input_data, label = loaded_data\n",
    "        input_data = input_data.to('cuda',dtype=torch.float32)\n",
    "        label = label.to('cuda',dtype=torch.long)\n",
    "\n",
    "        input_data = input_data.permute(0, 3, 1, 2)\n",
    "        test_output = model(input_data.float())\n",
    "        test_loss = criterion(test_output,label)\n",
    "        \n",
    "        epoch_test_loss += test_loss/ len(test_loader_cnn)\n",
    "        test_output = (test_output.argmax(dim=1)).long()\n",
    "        label = np.array(label.cpu())\n",
    "        test_output = np.array(test_output.cpu())\n",
    "        #   get confusion matrix\n",
    "        if(confusion_matrix(label, test_output).shape==(13,13)):\n",
    "            conf_matrix += confusion_matrix(label, test_output) / len(test_loader_cnn)\n",
    "#         conf_matrix.append(confusion_matrix(label, test_output))\n",
    "        #   calculate accuracy\n",
    "        acc += accuracy_score(label, test_output) / len(test_loader_cnn)\n",
    "        #   calculate precision\n",
    "        pre += precision_score(label, test_output, average='macro', zero_division=1) / len(test_loader_cnn)\n",
    "        #   calculate recall\n",
    "        recall += recall_score(label, test_output, average='macro', zero_division=1) / len(test_loader_cnn)\n",
    "        #   calculate F1 score\n",
    "        f1 += f1_score(label, test_output, average='macro') / len(test_loader_cnn)\n",
    "\n",
    "test_loss_arr.append(epoch_test_loss)\n",
    "test_loss_arr = np.array(test_loss_arr, dtype='float')\n",
    "losses = np.mean(test_loss_arr)\n",
    "\n",
    "# print metrics\n",
    "print(\"Mean Loss:\", losses, \"\\nMean Acc:\", acc,\"\\nMean Macro Precision:\", pre, \"\\nMean Macro Recall:\", recall, \"\\nMean Macro F1 Score:\", f1) \n",
    "\n",
    "# plot confusion matrix\n",
    "fig, ax = plt.subplots()\n",
    "im = ax.imshow(conf_matrix)\n",
    "# We want to show all ticks...\n",
    "ax.set_xticks(np.arange(13))\n",
    "ax.set_yticks(np.arange(13))\n",
    "\n",
    "fig.tight_layout()\n",
    "plt.show()"
   ]
  },
  {
   "cell_type": "markdown",
   "metadata": {},
   "source": [
    "Performance metric that I chose to save .pth documents is accuracy but precision would be better since we have lots of false positives. I realized it lately so I could not re-rained the models for the precision metric. Therefore, saving best models according to the performance metric, precision would give better results than performance metric accuracy. However, since there is same number of each cat breed and data is shuffled before the training, accuracy would be a good metric to pick the best model.\n",
    "By looking at the accuracy and loss plots of the training and validation sets, it could be said that CNN model has higher accuracy than MLP model for validation. However, these plots also shows that models are over fitted because both models training accuracy is approximately 1 but validation accuracy is approximately 0.2 for CNN and 0.15 for MLP model. For the test results of the saved .pth document, it could be said that CNN gave better results than MLP model for all metrics expect recall but the difference is small. By looking at the confusion matrixes, MLP learned “0, 8, 9, 10, 11, 12” well and CNN learned “1, 7, 8, 9, 12” well."
   ]
  },
  {
   "cell_type": "markdown",
   "metadata": {
    "id": "N3L2zjEN_tZf"
   },
   "source": [
    "###Adam Optimizer [35 pts.]\n",
    "\n",
    "Adam is an adaptive learning rate optimization algorithm that has been designed specifically for training deep neural networks. It was presented by Diederik Kingma from OpenAI and Jimmy Ba from the University of Toronto in their 2015 ICLR paper (poster) titled “Adam: A Method for Stochastic Optimization“.\n",
    "\n",
    "Nowadays, most of machine learning frameworks, including tensorflow, Pytorch, and Keras, choose Adam as the default optimizer. In this question, you will experiment with it and try to understand why it replaced SGD as the default optimizer."
   ]
  },
  {
   "cell_type": "markdown",
   "metadata": {
    "id": "jOQ75RHP-Fdn"
   },
   "source": [
    "####Training with ADAM [20 pts.]\n",
    "\n",
    "Train both models up to 700 epochs with properly processed inputs, i.e. call your \"get_dataset\" function in mode \"1\" for MLP and mode \"2\" for CNN. This time use Adam Optimizer as your optimizer. Tune your learning rate, weight decay. Save your best models, i.e. MLP and CNN models with highest performance, as \"best_mlp_adam.pth\" and \"best_cnn_adam.pth\". The best model decision is up to you. You could use any measurement and/or metric to decide on the best model for each network. However, you must explain your reasoning in your choice.\n",
    "\n",
    "During training, you need to plot two figures for each model:\n",
    "1. training loss and validation loss vs. epoch\n",
    "2. validation acuracy and validation accuracy vs. epoch <br>\n",
    "\n",
    "Name your axes and plots properly."
   ]
  },
  {
   "cell_type": "code",
   "execution_count": 10,
   "metadata": {},
   "outputs": [],
   "source": [
    "train_dataset, val_dataset, test_dataset = get_dataset('data', 1)"
   ]
  },
  {
   "cell_type": "code",
   "execution_count": 16,
   "metadata": {
    "id": "ZseK2xlrCPLb"
   },
   "outputs": [
    {
     "data": {
      "image/png": "[encoded data removed]",
      "text/plain": [
       "<Figure size 432x288 with 1 Axes>"
      ]
     },
     "metadata": {
      "needs_background": "light"
     },
     "output_type": "display_data"
    },
    {
     "data": {
      "image/png": "[encoded data removed]",
      "text/plain": [
       "<Figure size 432x288 with 1 Axes>"
      ]
     },
     "metadata": {
      "needs_background": "light"
     },
     "output_type": "display_data"
    }
   ],
   "source": [
    "# HINT: note that your training time should not take many days.\n",
    "\n",
    "# TODO:\n",
    "# Pick your hyper parameters\n",
    "max_epoch = 700\n",
    "train_batch = 64\n",
    "test_batch = 64\n",
    "learning_rate = 0.0001\n",
    "\n",
    "use_gpu = torch.cuda.is_available()\n",
    "\n",
    "train_loader_mlp = DataLoader(dataset = train_dataset, batch_size=train_batch, shuffle=True )\n",
    "test_loader_mlp = DataLoader(dataset = test_dataset, batch_size=train_batch, shuffle=True)\n",
    "val_loader_mlp = DataLoader(dataset = val_dataset, batch_size=train_batch, shuffle=True)\n",
    "\n",
    "# initialize your network\n",
    "model = FNet().to('cuda')\n",
    "\n",
    "# define your loss function\n",
    "criterion = nn.CrossEntropyLoss()\n",
    "    \n",
    "optimizer = torch.optim.Adam(model.parameters(), lr=learning_rate, weight_decay=5e-04) # you can play with  weight_decay as well\n",
    "    \n",
    "# start training\n",
    "# for each epoch calculate validation performance\n",
    "# save best model according to validation performance\n",
    "    \n",
    "val_acc = []\n",
    "valid_loss = []\n",
    "train_acc = []\n",
    "train_loss = []\n",
    "val_acc_max = 0\n",
    "for epoch in range(max_epoch):\n",
    "    model=model.train()\n",
    "    running_loss = 0.0\n",
    "    epoch_accuracy=0\n",
    "    epoch_loss =0\n",
    "    for data in train_loader_mlp:\n",
    "        inputs, labels = data\n",
    "        inputs = inputs.to('cuda',dtype=torch.float32)\n",
    "        labels = labels.to('cuda',dtype=torch.long)\n",
    "\n",
    "        optimizer.zero_grad()\n",
    "\n",
    "        outputs = model(inputs.float())\n",
    "        loss = criterion(outputs, labels)\n",
    "        loss.backward()\n",
    "        optimizer.step()\n",
    "        \n",
    "        acc = ((outputs.argmax(dim=1) == labels).float().mean())\n",
    "        epoch_accuracy += acc/len(train_loader_mlp)\n",
    "        epoch_loss += loss/len(train_loader_mlp)\n",
    "    train_acc.append(epoch_accuracy)\n",
    "    train_loss.append(epoch_loss)\n",
    "#    Validation\n",
    "    model = model.eval()\n",
    "    with torch.no_grad():\n",
    "            epoch_val_accuracy=0\n",
    "            epoch_val_loss =0\n",
    "            for data in val_loader_mlp:\n",
    "                data, label = data\n",
    "                data = data.to('cuda',dtype=torch.float32)\n",
    "                label = label.to('cuda',dtype=torch.long)\n",
    "\n",
    "                val_output = model(data.float())\n",
    "                val_loss = criterion(val_output,label)\n",
    "\n",
    "                acc = ((val_output.argmax(dim=1) == label).float().mean())\n",
    "                epoch_val_accuracy += acc/ len(val_loader_mlp)\n",
    "                epoch_val_loss += val_loss/ len(val_loader_mlp)\n",
    "\n",
    "            val_acc.append(epoch_val_accuracy)\n",
    "            valid_loss.append(epoch_val_loss)\n",
    "            if epoch_val_accuracy > val_acc_max:\n",
    "                torch.save(model, 'best_mlp_adam.pth')\n",
    "                val_acc_max = epoch_val_accuracy\n",
    "            \n",
    "plt.plot(train_loss, color='green')\n",
    "plt.plot(valid_loss, color='red')\n",
    "plt.title(\"Loss\")\n",
    "plt.xlabel('epoch')\n",
    "plt.ylabel('loss')\n",
    "plt.legend(['train_loss', 'valid_loss'])\n",
    "plt.show()\n",
    "\n",
    "plt.plot(train_acc, color='green')\n",
    "plt.plot(val_acc, color='red')\n",
    "plt.title(\"Accuracy\")\n",
    "plt.xlabel('epoch')\n",
    "plt.ylabel('accuracy')\n",
    "plt.legend(['train_acc', 'val_acc'])\n",
    "plt.show()"
   ]
  },
  {
   "cell_type": "code",
   "execution_count": 11,
   "metadata": {},
   "outputs": [],
   "source": [
    "train_dataset, val_dataset, test_dataset = get_dataset('data', 2)"
   ]
  },
  {
   "cell_type": "code",
   "execution_count": 12,
   "metadata": {
    "id": "3fr4WUpQCO5s"
   },
   "outputs": [
    {
     "data": {
      "image/png": "[encoded data removed]",
      "text/plain": [
       "<Figure size 432x288 with 1 Axes>"
      ]
     },
     "metadata": {
      "needs_background": "light"
     },
     "output_type": "display_data"
    },
    {
     "data": {
      "image/png": "[encoded data removed]",
      "text/plain": [
       "<Figure size 432x288 with 1 Axes>"
      ]
     },
     "metadata": {
      "needs_background": "light"
     },
     "output_type": "display_data"
    }
   ],
   "source": [
    "# HINT: note that your training time should not take many days.\n",
    "\n",
    "# TODO:\n",
    "# Pick your hyper parameters\n",
    "max_epoch = 700\n",
    "train_batch = 64\n",
    "test_batch = 64\n",
    "learning_rate = 0.0001\n",
    "\n",
    "use_gpu = torch.cuda.is_available()\n",
    "\n",
    "train_loader_cnn = DataLoader(dataset = train_dataset, batch_size=train_batch, shuffle=True )\n",
    "test_loader_cnn = DataLoader(dataset = test_dataset, batch_size=train_batch, shuffle=True)\n",
    "val_loader_cnn = DataLoader(dataset = val_dataset, batch_size=train_batch, shuffle=True)\n",
    "# initialize your network\n",
    "model = ConvNet().to('cuda')\n",
    "\n",
    "# define your loss function\n",
    "criterion = nn.CrossEntropyLoss()\n",
    "    \n",
    "optimizer = torch.optim.Adam(model.parameters(), lr=learning_rate, weight_decay=5e-04) # you can play with  weight_decay as well\n",
    "    \n",
    "# start training\n",
    "# for each epoch calculate validation performance\n",
    "# save best model according to validation performance\n",
    "    \n",
    "val_acc = []\n",
    "valid_loss = []\n",
    "train_acc = []\n",
    "train_loss = []\n",
    "val_acc_max = 0\n",
    "for epoch in range(max_epoch):\n",
    "    model=model.train()\n",
    "    running_loss = 0.0\n",
    "    epoch_accuracy=0\n",
    "    epoch_loss =0\n",
    "    for data in train_loader_cnn:\n",
    "        inputs, labels = data\n",
    "        inputs = inputs.to('cuda',dtype=torch.float32)\n",
    "        labels = labels.to('cuda',dtype=torch.long)\n",
    "\n",
    "        optimizer.zero_grad()\n",
    "\n",
    "        inputs = inputs.permute(0, 3, 1, 2)\n",
    "        outputs = model(inputs.float())\n",
    "        loss = criterion(outputs, labels)\n",
    "        loss.backward()\n",
    "        optimizer.step()\n",
    "        \n",
    "        acc = ((outputs.argmax(dim=1) == labels).float().mean())\n",
    "        epoch_accuracy += acc/len(train_loader_cnn)\n",
    "        epoch_loss += loss/len(train_loader_cnn)\n",
    "#     print('Epoch : {}, train accuracy : {}, train loss : {}'.format(epoch+1, epoch_accuracy,epoch_loss))\n",
    "    train_acc.append(epoch_accuracy)\n",
    "    train_loss.append(epoch_loss)\n",
    "#    Validation\n",
    "    model = model.eval()\n",
    "    with torch.no_grad():\n",
    "            epoch_val_accuracy=0\n",
    "            epoch_val_loss =0\n",
    "            for data in val_loader_cnn:\n",
    "                data, label = data\n",
    "                data = data.to('cuda',dtype=torch.float32)\n",
    "                label = label.to('cuda',dtype=torch.long)\n",
    "\n",
    "                data = data.permute(0, 3, 1, 2)\n",
    "                val_output = model(data.float())\n",
    "                val_loss = criterion(val_output,label)\n",
    "\n",
    "                acc = ((val_output.argmax(dim=1) == label).float().mean())\n",
    "                epoch_val_accuracy += acc/ len(val_loader_cnn)\n",
    "                epoch_val_loss += val_loss/ len(val_loader_cnn)\n",
    "\n",
    "            val_acc.append(epoch_val_accuracy)\n",
    "            valid_loss.append(epoch_val_loss)\n",
    "            if epoch_val_accuracy > val_acc_max:\n",
    "                torch.save(model, 'best_cnn_adam.pth')\n",
    "                val_acc_max = epoch_val_accuracy\n",
    "            \n",
    "plt.plot(train_loss, color='green')\n",
    "plt.plot(valid_loss, color='red')\n",
    "plt.title(\"Loss\")\n",
    "plt.xlabel('epoch')\n",
    "plt.ylabel('loss')\n",
    "plt.legend(['train_loss', 'valid_loss'])\n",
    "plt.show()\n",
    "\n",
    "plt.plot(train_acc, color='green')\n",
    "plt.plot(val_acc, color='red')\n",
    "plt.title(\"Accuracy\")\n",
    "plt.xlabel('epoch')\n",
    "plt.ylabel('accuracy')\n",
    "plt.legend(['train_acc', 'val_acc'])\n",
    "plt.show()"
   ]
  },
  {
   "cell_type": "markdown",
   "metadata": {
    "id": "0iozVeXZAXiH"
   },
   "source": [
    "####Test with ADAM [15 pts.]\n",
    "\n",
    "Report the following for your best model on your test set which has not been seen by the model yet.\n",
    "1. A heatmap for confusion matrix\n",
    "2. Accuracy\n",
    "3. Macro Precision\n",
    "4. Macro Recall\n",
    "5. F1 Score\n",
    "\n",
    "Then, discuss figures that you have plotted in the previous section, your test results and algorithm complexity with maximum 200 words. Compare two **optimizers**. Which one is more preferable? Why?"
   ]
  },
  {
   "cell_type": "code",
   "execution_count": 19,
   "metadata": {
    "id": "yMj89kUtCR0F"
   },
   "outputs": [
    {
     "name": "stdout",
     "output_type": "stream",
     "text": [
      "Mean Loss: 2.4014384746551514 \n",
      "Mean Acc: 0.1809025578080455 \n",
      "Mean Macro Precision: 0.2621493694604929 \n",
      "Mean Macro Recall: 0.1918354206565995 \n",
      "Mean Macro F1 Score: 0.15247939529834925\n"
     ]
    },
    {
     "data": {
      "image/png": "[encoded data removed]",
      "text/plain": [
       "<Figure size 432x288 with 1 Axes>"
      ]
     },
     "metadata": {
      "needs_background": "light"
     },
     "output_type": "display_data"
    }
   ],
   "source": [
    "# Test MLP\n",
    "# load best model\n",
    "best_path = 'best_mlp_adam.pth'\n",
    "model = torch.load(best_path)\n",
    "\n",
    "# evaluate on test set\n",
    "model = model.eval()\n",
    "\n",
    "test_loss_arr = []\n",
    "with torch.no_grad():\n",
    "    epoch_test_loss = 0\n",
    "    acc = 0\n",
    "    pre = 0\n",
    "    recall = 0\n",
    "    f1 = 0\n",
    "    conf_matrix = np.zeros((13,13))\n",
    "#   iterate over test batches\n",
    "    for loaded_data in test_loader_mlp:\n",
    "        input_data, label = loaded_data\n",
    "        input_data = input_data.to('cuda',dtype=torch.float32)\n",
    "        label = label.to('cuda',dtype=torch.long)\n",
    "\n",
    "        test_output = model(input_data.float())\n",
    "        test_loss = criterion(test_output,label)\n",
    "        \n",
    "        epoch_test_loss += test_loss/ len(test_loader_mlp)\n",
    "        test_output = (test_output.argmax(dim=1)).long()\n",
    "        label = np.array(label.cpu())\n",
    "        test_output = np.array(test_output.cpu())\n",
    "        #   get confusion matrix\n",
    "        if(confusion_matrix(label, test_output).shape==(13,13)):\n",
    "            conf_matrix += confusion_matrix(label, test_output) / len(test_loader_mlp)\n",
    "#         conf_matrix.append(confusion_matrix(label, test_output))\n",
    "        #   calculate accuracy\n",
    "        acc += accuracy_score(label, test_output) / len(test_loader_mlp)\n",
    "        #   calculate precision\n",
    "        pre += precision_score(label, test_output, average='macro', zero_division=1) / len(test_loader_mlp)\n",
    "        #   calculate recall\n",
    "        recall += recall_score(label, test_output, average='macro', zero_division=1) / len(test_loader_mlp)\n",
    "        #   calculate F1 score\n",
    "        f1 += f1_score(label, test_output, average='macro') / len(test_loader_mlp)\n",
    "    \n",
    "test_loss_arr.append(epoch_test_loss)\n",
    "test_loss_arr = np.array(test_loss_arr, dtype='float')\n",
    "losses = np.mean(test_loss_arr)\n",
    "\n",
    "\n",
    "# print metrics\n",
    "print(\"Mean Loss:\", losses, \"\\nMean Acc:\", acc,\"\\nMean Macro Precision:\", pre, \"\\nMean Macro Recall:\", recall, \"\\nMean Macro F1 Score:\", f1) \n",
    "\n",
    "# plot confusion matrix\n",
    "fig, ax = plt.subplots()\n",
    "im = ax.imshow(conf_matrix)\n",
    "# We want to show all ticks...\n",
    "ax.set_xticks(np.arange(13))\n",
    "ax.set_yticks(np.arange(13))\n",
    "\n",
    "fig.tight_layout()\n",
    "plt.show()"
   ]
  },
  {
   "cell_type": "code",
   "execution_count": 13,
   "metadata": {
    "id": "_t27l0hN9FqS"
   },
   "outputs": [
    {
     "name": "stdout",
     "output_type": "stream",
     "text": [
      "Mean Loss: 2.206914186477661 \n",
      "Mean Acc: 0.24876761957554647 \n",
      "Mean Macro Precision: 0.26115755983388345 \n",
      "Mean Macro Recall: 0.25634856596395067 \n",
      "Mean Macro F1 Score: 0.21487390978263207\n"
     ]
    },
    {
     "data": {
      "image/png": "[encoded data removed]",
      "text/plain": [
       "<Figure size 432x288 with 1 Axes>"
      ]
     },
     "metadata": {
      "needs_background": "light"
     },
     "output_type": "display_data"
    }
   ],
   "source": [
    "# Test CNN\n",
    "# load best model\n",
    "best_path = 'best_cnn_adam.pth'\n",
    "model = torch.load(best_path)\n",
    "\n",
    "# evaluate on test set\n",
    "model = model.eval()\n",
    "\n",
    "test_loss_arr = []\n",
    "with torch.no_grad():\n",
    "    epoch_test_loss = 0\n",
    "    acc = 0\n",
    "    pre = 0\n",
    "    recall = 0\n",
    "    f1 = 0\n",
    "    conf_matrix = np.zeros((13,13))\n",
    "#   iterate over test batches\n",
    "    for loaded_data in test_loader_cnn:\n",
    "        input_data, label = loaded_data\n",
    "        input_data = input_data.to('cuda',dtype=torch.float32)\n",
    "        label = label.to('cuda',dtype=torch.long)\n",
    "\n",
    "        input_data = input_data.permute(0, 3, 1, 2)\n",
    "        test_output = model(input_data.float())\n",
    "        test_loss = criterion(test_output,label)\n",
    "        \n",
    "        epoch_test_loss += test_loss/ len(test_loader_cnn)\n",
    "        test_output = (test_output.argmax(dim=1)).long()\n",
    "        label = np.array(label.cpu())\n",
    "        test_output = np.array(test_output.cpu())\n",
    "        #   get confusion matrix\n",
    "        if(confusion_matrix(label, test_output).shape==(13,13)):\n",
    "            conf_matrix += confusion_matrix(label, test_output) / len(test_loader_cnn)\n",
    "#         conf_matrix.append(confusion_matrix(label, test_output))\n",
    "        #   calculate accuracy\n",
    "        acc += accuracy_score(label, test_output) / len(test_loader_cnn)\n",
    "        #   calculate precision\n",
    "        pre += precision_score(label, test_output, average='macro', zero_division=1) / len(test_loader_cnn)\n",
    "        #   calculate recall\n",
    "        recall += recall_score(label, test_output, average='macro', zero_division=1) / len(test_loader_cnn)\n",
    "        #   calculate F1 score\n",
    "        f1 += f1_score(label, test_output, average='macro') / len(test_loader_cnn)\n",
    "\n",
    "test_loss_arr.append(epoch_test_loss)\n",
    "test_loss_arr = np.array(test_loss_arr, dtype='float')\n",
    "losses = np.mean(test_loss_arr)\n",
    "\n",
    "# print metrics\n",
    "print(\"Mean Loss:\", losses, \"\\nMean Acc:\", acc,\"\\nMean Macro Precision:\", pre, \"\\nMean Macro Recall:\", recall, \"\\nMean Macro F1 Score:\", f1) \n",
    "\n",
    "# plot confusion matrix\n",
    "fig, ax = plt.subplots()\n",
    "im = ax.imshow(conf_matrix)\n",
    "# We want to show all ticks...\n",
    "ax.set_xticks(np.arange(13))\n",
    "ax.set_yticks(np.arange(13))\n",
    "\n",
    "fig.tight_layout()\n",
    "plt.show()"
   ]
  },
  {
   "cell_type": "markdown",
   "metadata": {},
   "source": [
    "By looking at accuracy plots of training and validation sets, it could be said that CNN has higher accuracy than MLP for validation. Similar results as in the “sgd” optimizer are obtained for the training plots. For the test results of the best model, it could be said that CNN gave better results than MLP model for all metrics except precision with small difference. \n",
    "By looking at the confusion matrixes, MLP is over-fitted to the breed “9” and CNN learned all breeds expect “0, 5, 6”. Light colors, refers for higher repetition, can be seen in diagonal matrix of the CNN model. \n",
    "Both models have same number of layers. In general CNN is more complex than MLP since CNN has convolution and max pooling layers. Test results’ confusion matrix of “adam” and “sgd” optimizer, it could be said that “adam” optimizer make better predictions than “sgd”. For MLP, since the “adam” optimizer is over fitted, “sgd” gave better results but it should not be general interpretation. For a differently shuffled dataset “adam” optimizer may not over-fit. To sum up, since CNN is a better model than MLP and it gave better results with the “adam” optimizer, I would prefer “adam” optimizer."
   ]
  }
 ],
 "metadata": {
  "colab": {
   "collapsed_sections": [],
   "name": "cs464_fall20_hw3.ipynb",
   "provenance": [],
   "toc_visible": true
  },
  "kernelspec": {
   "display_name": "Python 3",
   "language": "python",
   "name": "python3"
  },
  "language_info": {
   "codemirror_mode": {
    "name": "ipython",
    "version": 3
   },
   "file_extension": ".py",
   "mimetype": "text/x-python",
   "name": "python",
   "nbconvert_exporter": "python",
   "pygments_lexer": "ipython3",
   "version": "3.8.5"
  }
 },
 "nbformat": 4,
 "nbformat_minor": 1
}
